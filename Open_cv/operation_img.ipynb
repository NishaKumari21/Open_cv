{
 "cells": [
  {
   "cell_type": "code",
   "execution_count": 1,
   "id": "37e1ca87",
   "metadata": {},
   "outputs": [
    {
     "name": "stdout",
     "output_type": "stream",
     "text": [
      "<class 'numpy.ndarray'>\n"
     ]
    }
   ],
   "source": [
    "import cv2\n",
    "\n",
    "# Read image\n",
    "img = cv2.imread('nishaCV.png')\n",
    "\n",
    "print(type(img))"
   ]
  },
  {
   "cell_type": "code",
   "execution_count": 2,
   "id": "9a54a813",
   "metadata": {},
   "outputs": [],
   "source": [
    "# Resize\n",
    "resized = cv2.resize(img, (300, 300))\n",
    "cv2.imshow('resize_img',resized)\n",
    "cv2.waitKey(0)\n",
    "cv2.destroyAllWindows()"
   ]
  },
  {
   "cell_type": "code",
   "execution_count": 3,
   "id": "68e77c31",
   "metadata": {},
   "outputs": [],
   "source": [
    "# flip image\n",
    "img_flip=cv2.flip(img,0)\n",
    "# horizontal_img_flip=cv2.flip(img,1)----------.img ko horizontally flip kregaa\n",
    "cv2.imshow('flip_img',img_flip)\n",
    "cv2.waitKey(0)\n",
    "cv2.destroyAllWindows()"
   ]
  },
  {
   "cell_type": "code",
   "execution_count": 4,
   "id": "0615b407",
   "metadata": {},
   "outputs": [],
   "source": [
    "# cropping\n",
    "img_crop=img[100:300,200:400]\n",
    "# 100:300--height\n",
    "# 200:400--breadth\n",
    "cv2.imshow('crop_img',img_crop)\n",
    "cv2.waitKey(0)\n",
    "cv2.destroyAllWindows()"
   ]
  },
  {
   "cell_type": "code",
   "execution_count": 5,
   "id": "08c38d73",
   "metadata": {},
   "outputs": [
    {
     "data": {
      "text/plain": [
       "True"
      ]
     },
     "execution_count": 5,
     "metadata": {},
     "output_type": "execute_result"
    }
   ],
   "source": [
    "# to save an img\n",
    "cv2.imwrite('crop_img.png',img_crop)\n"
   ]
  },
  {
   "cell_type": "code",
   "execution_count": 7,
   "id": "2b7664e1",
   "metadata": {},
   "outputs": [
    {
     "data": {
      "text/plain": [
       "True"
      ]
     },
     "execution_count": 7,
     "metadata": {},
     "output_type": "execute_result"
    }
   ],
   "source": [
    "cv2.imwrite('img_flip.png',img_flip)"
   ]
  },
  {
   "cell_type": "code",
   "execution_count": 8,
   "id": "60273705",
   "metadata": {},
   "outputs": [
    {
     "data": {
      "text/plain": [
       "True"
      ]
     },
     "execution_count": 8,
     "metadata": {},
     "output_type": "execute_result"
    }
   ],
   "source": [
    "cv2.imwrite('img_resize.png',resized)"
   ]
  },
  {
   "cell_type": "code",
   "execution_count": null,
   "id": "69e6fbb2",
   "metadata": {},
   "outputs": [],
   "source": []
  }
 ],
 "metadata": {
  "kernelspec": {
   "display_name": "Python 3",
   "language": "python",
   "name": "python3"
  },
  "language_info": {
   "codemirror_mode": {
    "name": "ipython",
    "version": 3
   },
   "file_extension": ".py",
   "mimetype": "text/x-python",
   "name": "python",
   "nbconvert_exporter": "python",
   "pygments_lexer": "ipython3",
   "version": "3.12.2"
  }
 },
 "nbformat": 4,
 "nbformat_minor": 5
}
