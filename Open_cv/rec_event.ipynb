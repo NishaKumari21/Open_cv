{
 "cells": [
  {
   "cell_type": "code",
   "execution_count": 5,
   "id": "631808a1",
   "metadata": {},
   "outputs": [],
   "source": [
    "import cv2\n",
    "import numpy as np\n",
    "\n",
    "# Create a black image of size 512x512 with 3 color channels (RGB)\n",
    "img = np.zeros((512, 512, 3))\n",
    "flag=False\n",
    "ix =-1\n",
    "iy=-1\n",
    "# Define the mouse callback function\n",
    "def draw(event, x, y, flags, param):\n",
    "    global ix,iy,flag\n",
    "    if event == 1:  \n",
    "        flag=True\n",
    "        ix=x\n",
    "        iy=y\n",
    "    elif event==0:\n",
    "        if flag==True:\n",
    "            cv2.rectangle(img,pt1=(ix,iy),pt2=(x,y),thickness=-1,color=(0,255,255))\n",
    "        \n",
    "    else:\n",
    "        flag=False\n",
    "        cv2.rectangle(img,pt1=(ix,iy),pt2=(x,y),thickness=-1,color=(0,255,255))\n",
    "\n",
    "# Create a window and set the mouse callback\n",
    "cv2.namedWindow('window')\n",
    "cv2.setMouseCallback('window', draw)\n",
    "\n",
    "# Display the window in a loop until 'x' is pressed\n",
    "while True:\n",
    "    cv2.imshow(\"window\", img)\n",
    "    if cv2.waitKey(1) & 0xFF == ord('x'):\n",
    "        break\n",
    "\n",
    "cv2.destroyAllWindows()"
   ]
  },
  {
   "cell_type": "code",
   "execution_count": null,
   "id": "cf9d2b68",
   "metadata": {},
   "outputs": [],
   "source": []
  },
  {
   "cell_type": "code",
   "execution_count": null,
   "id": "efba8f50",
   "metadata": {},
   "outputs": [],
   "source": []
  },
  {
   "cell_type": "code",
   "execution_count": null,
   "id": "faa190fc",
   "metadata": {},
   "outputs": [],
   "source": []
  },
  {
   "cell_type": "code",
   "execution_count": null,
   "id": "c4540878",
   "metadata": {},
   "outputs": [],
   "source": []
  },
  {
   "cell_type": "code",
   "execution_count": null,
   "id": "78af2a46",
   "metadata": {},
   "outputs": [],
   "source": []
  }
 ],
 "metadata": {
  "kernelspec": {
   "display_name": "Python 3",
   "language": "python",
   "name": "python3"
  },
  "language_info": {
   "codemirror_mode": {
    "name": "ipython",
    "version": 3
   },
   "file_extension": ".py",
   "mimetype": "text/x-python",
   "name": "python",
   "nbconvert_exporter": "python",
   "pygments_lexer": "ipython3",
   "version": "3.12.2"
  }
 },
 "nbformat": 4,
 "nbformat_minor": 5
}
