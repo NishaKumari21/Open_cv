{
 "cells": [
  {
   "cell_type": "code",
   "execution_count": 1,
   "id": "88700361",
   "metadata": {},
   "outputs": [
    {
     "name": "stdout",
     "output_type": "stream",
     "text": [
      "[[[215 226 204]\n",
      "  [213 225 204]\n",
      "  [214 225 203]\n",
      "  ...\n",
      "  [214 225 203]\n",
      "  [214 224 204]\n",
      "  [216 227 206]]\n",
      "\n",
      " [[214 225 203]\n",
      "  [214 225 203]\n",
      "  [214 225 203]\n",
      "  ...\n",
      "  [214 225 204]\n",
      "  [215 225 204]\n",
      "  [215 226 204]]\n",
      "\n",
      " [[214 226 203]\n",
      "  [214 225 203]\n",
      "  [214 225 203]\n",
      "  ...\n",
      "  [214 225 203]\n",
      "  [214 225 204]\n",
      "  [214 225 204]]\n",
      "\n",
      " ...\n",
      "\n",
      " [[216 223 229]\n",
      "  [216 222 229]\n",
      "  [217 223 230]\n",
      "  ...\n",
      "  [231 235 239]\n",
      "  [232 236 239]\n",
      "  [233 237 240]]\n",
      "\n",
      " [[216 222 229]\n",
      "  [216 223 229]\n",
      "  [216 223 229]\n",
      "  ...\n",
      "  [231 236 238]\n",
      "  [231 236 239]\n",
      "  [234 238 241]]\n",
      "\n",
      " [[215 222 228]\n",
      "  [216 222 229]\n",
      "  [216 222 229]\n",
      "  ...\n",
      "  [232 237 239]\n",
      "  [231 235 238]\n",
      "  [231 235 238]]]\n",
      "<class 'numpy.ndarray'>\n"
     ]
    }
   ],
   "source": [
    "import cv2\n",
    "\n",
    "# Read image\n",
    "img = cv2.imread('nishaCV.png')\n",
    "print(img)\n",
    "print(type(img))"
   ]
  },
  {
   "cell_type": "code",
   "execution_count": 2,
   "id": "97d573ae",
   "metadata": {},
   "outputs": [],
   "source": [
    "gray_img=cv2.cvtColor(img,cv2.COLOR_BGR2GRAY)\n",
    "cv2.imshow('gray_image',gray_img)\n",
    "cv2.waitKey(0)  \n",
    "cv2.destroyAllWindows()"
   ]
  },
  {
   "cell_type": "code",
   "execution_count": 4,
   "id": "47d31734",
   "metadata": {},
   "outputs": [],
   "source": [
    "hsv_img=cv2.cvtColor(img,cv2.COLOR_BGR2HSV)\n",
    "cv2.imshow('hsv_image',hsv_img)\n",
    "cv2.waitKey(0)  \n",
    "cv2.destroyAllWindows()"
   ]
  },
  {
   "cell_type": "code",
   "execution_count": null,
   "id": "94eb1a10",
   "metadata": {},
   "outputs": [],
   "source": []
  }
 ],
 "metadata": {
  "kernelspec": {
   "display_name": "Python 3",
   "language": "python",
   "name": "python3"
  },
  "language_info": {
   "codemirror_mode": {
    "name": "ipython",
    "version": 3
   },
   "file_extension": ".py",
   "mimetype": "text/x-python",
   "name": "python",
   "nbconvert_exporter": "python",
   "pygments_lexer": "ipython3",
   "version": "3.12.2"
  }
 },
 "nbformat": 4,
 "nbformat_minor": 5
}
