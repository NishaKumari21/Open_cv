{
 "cells": [
  {
   "cell_type": "code",
   "execution_count": 1,
   "id": "b0d0e051",
   "metadata": {},
   "outputs": [
    {
     "name": "stdout",
     "output_type": "stream",
     "text": [
      "<class 'numpy.ndarray'>\n"
     ]
    }
   ],
   "source": [
    "import cv2\n",
    "\n",
    "# Read image\n",
    "img = cv2.imread('nishaCV.png')\n",
    "\n",
    "print(type(img))"
   ]
  },
  {
   "cell_type": "code",
   "execution_count": 2,
   "id": "0a1fcbdf",
   "metadata": {},
   "outputs": [],
   "source": [
    "import cv2\n",
    "import numpy as np\n",
    "\n",
    "# Create a blank black image (512x512 with 3 color channels)\n",
    "img3 = np.zeros((512, 512, 3), dtype=np.uint8)\n",
    "\n",
    "# Draw a filled rectangle\n",
    "cv2.rectangle(img3, pt1=(100, 100), pt2=(300, 300), color=(255, 0, 0), thickness=0)\n",
    "\n",
    "# Draw a filled circle\n",
    "# 0 krne se emplty fill or -1 krne se fill hojayega andr\n",
    "cv2.circle(img3, center=(100, 400), radius=50, color=(0, 0, 255), thickness=-1)\n",
    "\n",
    "# Draw a line\n",
    "cv2.line(img3, pt1=(0, 0), pt2=(512, 512), thickness=2, color=(0, 255, 0))\n",
    "\n",
    "# Put text on the image\n",
    "cv2.putText(img3, \n",
    "            text=\"Hello\", \n",
    "            org=(100, 100), \n",
    "            fontScale=4, \n",
    "            color=(0, 255, 255), \n",
    "            thickness=2, \n",
    "            lineType=cv2.LINE_AA, \n",
    "            fontFace=cv2.FONT_ITALIC)\n",
    "\n",
    "# Display the image\n",
    "cv2.imshow(\"window\", img3)\n",
    "cv2.waitKey(0)\n",
    "cv2.destroyAllWindows()\n"
   ]
  },
  {
   "cell_type": "code",
   "execution_count": null,
   "id": "c82b2ef3",
   "metadata": {},
   "outputs": [],
   "source": []
  }
 ],
 "metadata": {
  "kernelspec": {
   "display_name": "Python 3",
   "language": "python",
   "name": "python3"
  },
  "language_info": {
   "codemirror_mode": {
    "name": "ipython",
    "version": 3
   },
   "file_extension": ".py",
   "mimetype": "text/x-python",
   "name": "python",
   "nbconvert_exporter": "python",
   "pygments_lexer": "ipython3",
   "version": "3.12.2"
  }
 },
 "nbformat": 4,
 "nbformat_minor": 5
}
