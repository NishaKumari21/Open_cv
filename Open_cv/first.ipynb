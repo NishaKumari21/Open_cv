{
 "cells": [
  {
   "cell_type": "code",
   "execution_count": 1,
   "id": "9dbbbe8d",
   "metadata": {},
   "outputs": [],
   "source": [
    "# pip install opencv-python"
   ]
  },
  {
   "cell_type": "markdown",
   "id": "fcd0eb9d",
   "metadata": {},
   "source": [
    "Opencv phle c++ mei likha hua tha"
   ]
  },
  {
   "cell_type": "code",
   "execution_count": 2,
   "id": "846db819",
   "metadata": {},
   "outputs": [
    {
     "name": "stdout",
     "output_type": "stream",
     "text": [
      "[[[215 226 204]\n",
      "  [213 225 204]\n",
      "  [214 225 203]\n",
      "  ...\n",
      "  [214 225 203]\n",
      "  [214 224 204]\n",
      "  [216 227 206]]\n",
      "\n",
      " [[214 225 203]\n",
      "  [214 225 203]\n",
      "  [214 225 203]\n",
      "  ...\n",
      "  [214 225 204]\n",
      "  [215 225 204]\n",
      "  [215 226 204]]\n",
      "\n",
      " [[214 226 203]\n",
      "  [214 225 203]\n",
      "  [214 225 203]\n",
      "  ...\n",
      "  [214 225 203]\n",
      "  [214 225 204]\n",
      "  [214 225 204]]\n",
      "\n",
      " ...\n",
      "\n",
      " [[216 223 229]\n",
      "  [216 222 229]\n",
      "  [217 223 230]\n",
      "  ...\n",
      "  [231 235 239]\n",
      "  [232 236 239]\n",
      "  [233 237 240]]\n",
      "\n",
      " [[216 222 229]\n",
      "  [216 223 229]\n",
      "  [216 223 229]\n",
      "  ...\n",
      "  [231 236 238]\n",
      "  [231 236 239]\n",
      "  [234 238 241]]\n",
      "\n",
      " [[215 222 228]\n",
      "  [216 222 229]\n",
      "  [216 222 229]\n",
      "  ...\n",
      "  [232 237 239]\n",
      "  [231 235 238]\n",
      "  [231 235 238]]]\n",
      "<class 'numpy.ndarray'>\n"
     ]
    }
   ],
   "source": [
    "import cv2\n",
    "\n",
    "# Read image\n",
    "img = cv2.imread('nishaCV.png')\n",
    "print(img)\n",
    "print(type(img))\n",
    "# <class 'numpy.ndarray'> stored in numpy array\n",
    "\n"
   ]
  },
  {
   "cell_type": "code",
   "execution_count": 3,
   "id": "533da5fc",
   "metadata": {},
   "outputs": [],
   "source": [
    "# Display image\n",
    "cv2.imshow('My Image', img)\n",
    "cv2.waitKey(0)  \n",
    "cv2.destroyAllWindows()"
   ]
  },
  {
   "cell_type": "markdown",
   "id": "15e63435",
   "metadata": {},
   "source": [
    "## Image Properties\n"
   ]
  },
  {
   "cell_type": "code",
   "execution_count": 4,
   "id": "c1ae2607",
   "metadata": {},
   "outputs": [
    {
     "name": "stdout",
     "output_type": "stream",
     "text": [
      "Shape: (1088, 844, 3)\n",
      "Size: 2754816\n",
      "Data Type: uint8\n"
     ]
    }
   ],
   "source": [
    "print(\"Shape:\", img.shape)        # (height, width, channels)\n",
    "print(\"Size:\", img.size)          # Total pixels\n",
    "print(\"Data Type:\", img.dtype)"
   ]
  },
  {
   "cell_type": "markdown",
   "id": "6d49327b",
   "metadata": {},
   "source": [
    "## Common Operations\n",
    "<br> Resize, Crop, and Rotate"
   ]
  },
  {
   "cell_type": "code",
   "execution_count": 16,
   "id": "5f587a44",
   "metadata": {},
   "outputs": [],
   "source": [
    "import cv2\n",
    "import numpy as np\n",
    "\n",
    "# Read the original image\n",
    "img = cv2.imread('nishaCV.png')\n",
    "\n",
    "# Make copies to manipulate channels separately\n",
    "blue_removed = img.copy()\n",
    "blue_removed[:, :, 0] = 0  # Remove blue\n",
    "\n",
    "green_removed = img.copy()\n",
    "green_removed[:, :, 1] = 0  # Remove green\n",
    "\n",
    "red_removed = img.copy()\n",
    "red_removed[:, :, 2] = 0  # Remove red\n",
    "\n",
    "# Horizontally stack them for visualization\n",
    "new_img = np.hstack((blue_removed, green_removed, red_removed))\n",
    "\n",
    "# Show result\n",
    "cv2.imshow('Channel Manipulation', new_img)\n",
    "cv2.waitKey(0)\n",
    "cv2.destroyAllWindows()\n"
   ]
  },
  {
   "cell_type": "markdown",
   "id": "f7556379",
   "metadata": {},
   "source": [
    "## Manipulating on grey image [Grayscale view of Blue channel,green and red ]"
   ]
  },
  {
   "cell_type": "code",
   "execution_count": 20,
   "id": "770407eb",
   "metadata": {},
   "outputs": [],
   "source": [
    "import cv2\n",
    "import numpy as np\n",
    "\n",
    "# Read the original image\n",
    "img = cv2.imread('nishaCV.png')\n",
    "\n",
    "# Make copies to manipulate channels separately\n",
    "# blue_removed = img.copy()\n",
    "blue_removed=img[:, :, 0]# Remove blue\n",
    "\n",
    "# green_removed = img.copy()\n",
    "green_removed=img[:, :, 1]   # Remove green\n",
    "\n",
    "# red_removed = img.copy()\n",
    "red_removed=img[:, :, 2] # Remove red\n",
    "\n",
    "# Horizontally stack them for visualization\n",
    "new_img = np.hstack((blue_removed, green_removed, red_removed))\n",
    "\n",
    "# Show result\n",
    "cv2.imshow('Channel Manipulation', new_img)\n",
    "cv2.waitKey(0)\n",
    "cv2.destroyAllWindows()"
   ]
  },
  {
   "cell_type": "code",
   "execution_count": null,
   "id": "75599650",
   "metadata": {},
   "outputs": [],
   "source": []
  },
  {
   "cell_type": "code",
   "execution_count": null,
   "id": "f7afa613",
   "metadata": {},
   "outputs": [],
   "source": []
  }
 ],
 "metadata": {
  "kernelspec": {
   "display_name": "Python 3",
   "language": "python",
   "name": "python3"
  },
  "language_info": {
   "codemirror_mode": {
    "name": "ipython",
    "version": 3
   },
   "file_extension": ".py",
   "mimetype": "text/x-python",
   "name": "python",
   "nbconvert_exporter": "python",
   "pygments_lexer": "ipython3",
   "version": "3.12.2"
  }
 },
 "nbformat": 4,
 "nbformat_minor": 5
}
